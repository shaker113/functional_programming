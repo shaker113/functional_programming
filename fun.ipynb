{
 "cells": [
  {
   "attachments": {},
   "cell_type": "markdown",
   "metadata": {},
   "source": [
    "# Functional Programming \n"
   ]
  },
  {
   "attachments": {},
   "cell_type": "markdown",
   "metadata": {},
   "source": [
    "## pure function & impure function"
   ]
  },
  {
   "attachments": {},
   "cell_type": "markdown",
   "metadata": {},
   "source": [
    "**higher-order functions** : take other functions as arguments, or return them as results"
   ]
  },
  {
   "cell_type": "code",
   "execution_count": 1,
   "metadata": {},
   "outputs": [
    {
     "name": "stdout",
     "output_type": "stream",
     "text": [
      "20\n"
     ]
    }
   ],
   "source": [
    "def apply_twice(func, arg):\n",
    "   return func(func(arg))\n",
    "\n",
    "def add_five(x):\n",
    "   return x + 5\n",
    "\n",
    "print(apply_twice(add_five, 10))"
   ]
  },
  {
   "attachments": {},
   "cell_type": "markdown",
   "metadata": {},
   "source": [
    "Functional programming seeks to use **pure functions**\n",
    "* pure functions have no side effects, and return a value that depends only on their arguments\n"
   ]
  },
  {
   "cell_type": "code",
   "execution_count": 2,
   "metadata": {},
   "outputs": [],
   "source": [
    "# pure function\n",
    "def pure_function(x, y):\n",
    "  temp = x + 2*y\n",
    "  return temp / (2*x + y)\n",
    "\n",
    "# impure function\n",
    "some_list = []\n",
    "\n",
    "def impure(arg):\n",
    "  some_list.append(arg)"
   ]
  },
  {
   "attachments": {},
   "cell_type": "markdown",
   "metadata": {},
   "source": [
    "## Lambdas "
   ]
  },
  {
   "attachments": {},
   "cell_type": "markdown",
   "metadata": {},
   "source": [
    "anonymous function or one line function , This approach is most commonly used when passing a simple function as an argument to another function.\n",
    "\n",
    " \n",
    "* can take any number of arguments, but can only have one expression \n",
    "\n",
    "* we can assighn a lambda function to variable"
   ]
  },
  {
   "cell_type": "code",
   "execution_count": 7,
   "metadata": {},
   "outputs": [
    {
     "name": "stdout",
     "output_type": "stream",
     "text": [
      "50\n",
      "50\n",
      "6\n"
     ]
    }
   ],
   "source": [
    "def my_func(f, arg):\n",
    "  return f(arg)\n",
    "\n",
    "fun=lambda x: 2*x*x\n",
    "\n",
    "print(my_func(fun, 5))\n",
    "print( fun (5))\n",
    "\n",
    "fun2=lambda a,b,c:a*b*c\n",
    "print(fun2(2,3,1))"
   ]
  },
  {
   "attachments": {},
   "cell_type": "markdown",
   "metadata": {},
   "source": [
    "## map & filter"
   ]
  },
  {
   "attachments": {},
   "cell_type": "markdown",
   "metadata": {},
   "source": [
    "### map"
   ]
  },
  {
   "attachments": {},
   "cell_type": "markdown",
   "metadata": {},
   "source": [
    "**map** : takes a function and an iterable as arguments, and returns a new iterable with the function applied to each argument"
   ]
  },
  {
   "cell_type": "code",
   "execution_count": 9,
   "metadata": {},
   "outputs": [
    {
     "name": "stdout",
     "output_type": "stream",
     "text": [
      "[16, 27, 38, 49, 60]\n"
     ]
    }
   ],
   "source": [
    "nums = [11, 22, 33, 44, 55]\n",
    "print(list(map(lambda x : x+5,nums)))\n"
   ]
  },
  {
   "attachments": {},
   "cell_type": "markdown",
   "metadata": {},
   "source": [
    "### filter"
   ]
  },
  {
   "attachments": {},
   "cell_type": "markdown",
   "metadata": {},
   "source": [
    "**filter** : filters an iterable by leaving only the items that match a condition (also called a predicate)."
   ]
  },
  {
   "cell_type": "code",
   "execution_count": 12,
   "metadata": {},
   "outputs": [
    {
     "name": "stdout",
     "output_type": "stream",
     "text": [
      "[22, 44]\n"
     ]
    }
   ],
   "source": [
    "nums = [11, 22, 33, 44, 55]\n",
    "print(list(filter(lambda x: x%2==0, nums)))"
   ]
  },
  {
   "attachments": {},
   "cell_type": "markdown",
   "metadata": {},
   "source": [
    "## Generators "
   ]
  },
  {
   "cell_type": "markdown",
   "metadata": {},
   "source": []
  }
 ],
 "metadata": {
  "kernelspec": {
   "display_name": "Python 3",
   "language": "python",
   "name": "python3"
  },
  "language_info": {
   "codemirror_mode": {
    "name": "ipython",
    "version": 3
   },
   "file_extension": ".py",
   "mimetype": "text/x-python",
   "name": "python",
   "nbconvert_exporter": "python",
   "pygments_lexer": "ipython3",
   "version": "3.10.9"
  },
  "orig_nbformat": 4,
  "vscode": {
   "interpreter": {
    "hash": "84fd2673a0f847bf80637898000f9b4175f2ffd476d5f31b41a838c2acdb5b76"
   }
  }
 },
 "nbformat": 4,
 "nbformat_minor": 2
}
